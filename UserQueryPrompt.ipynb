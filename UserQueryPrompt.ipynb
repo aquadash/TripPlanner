{
 "cells": [
  {
   "cell_type": "code",
   "execution_count": null,
   "metadata": {},
   "outputs": [],
   "source": [
    "import os\n",
    "from dotenv import load_dotenv\n",
    "import openai\n",
    "\n",
    "load_dotenv()\n",
    "openai.api_type = \"azure\"\n",
    "openai.api_base = os.environ.get(\"AZURE_OAI_ENDPOINT\")\n",
    "openai.api_version = \"2023-05-15\"\n",
    "openai.api_key = os.environ.get(\"AZURE_OAI_KEY\")\n",
    "\n",
    "user_input_tests = [\n",
    "    \"I'm planning a trip to Paris. I want to explore museums and have some delicious food.\",\n",
    "    \"Heading to New York City next week. Interested in Broadway shows and wheelchair-accessible attractions.\",\n",
    "    \"Considering a trip to Rome. Would love to visit historic sites and try local cuisine. Accessibility for mobility needs is important.\",\n",
    "    \"Planning a getaway to London. Sightseeing and shopping are on the list. Need wheelchair access for attractions.\",\n",
    "    \"Exploring San Francisco soon. Interested in wine tasting and exploring landmarks\",\n",
    "    \"Looking forward to my visit to Tokyo. Anime-related activities and delicious sushi are a must.\",\n",
    "    \"Going to Barcelona for a vacation. Interested in architecture and local cuisine. Need to ensure accessibility for a wheelchair.\",\n",
    "    \"Vacationing in Sydney, Australia. Want to experience the beach and outdoor adventures.\",\n",
    "    \"Heading to Las Vegas for some entertainment. Shows and casinos are on my list.\"\n",
    "]\n",
    "\n",
    "user_input = \"I am going to Perth and Noosa, I want to go to a winery and a couple of restaurants, need it to be wheelchair-accessible. I also have a friend with me who uses a walking stick so we need ramp access. We also need braille support.\"\n",
    "system_msg = \"A user will tell you where they want to go (geographical location), what accessibility requirements they have and what they want to do (in free text form). You need to extract place, activites and accessibility requirements (they might give multiple places, activities or accessibility requirements. Extract all of those, no hyphens, and return only one key word for each, e.g. wheelchair instead of wheelchair access. Also make all words singular form.) from user-entered text. Return those as json\"\n",
    "\n",
    "messages = [\n",
    "    {\"role\": \"system\", \"content\": system_msg},\n",
    "    {\"role\": \"user\", \"content\": user_input}\n",
    "]\n",
    "\n",
    "response = openai.ChatCompletion.create(\n",
    "  engine=\"gpt-4\",\n",
    "  messages = messages,\n",
    "  temperature=0.7,\n",
    "  max_tokens=800,\n",
    "  top_p=0.95,\n",
    "  frequency_penalty=0,\n",
    "  presence_penalty=0,\n",
    "  stop=None)\n",
    "\n",
    "def test():\n",
    "    for t in user_input_tests:\n",
    "      messages = [\n",
    "        {\"role\": \"system\", \"content\": system_msg},\n",
    "        {\"role\": \"user\", \"content\": t}\n",
    "      ]\n",
    "      response = openai.ChatCompletion.create(\n",
    "        engine=\"gpt-4\",\n",
    "        messages = messages,\n",
    "        temperature=0.7,\n",
    "        max_tokens=800,\n",
    "        top_p=0.95,\n",
    "        frequency_penalty=0,\n",
    "        presence_penalty=0,\n",
    "        stop=None\n",
    "      )\n",
    "      extracted_activities = response.choices[0].message['content']\n",
    "      print(\"User says: \"+t+\"\\n\"+\"Output: \"+extracted_activities+\"\\n\")"
   ]
  },
  {
   "cell_type": "code",
   "execution_count": null,
   "metadata": {},
   "outputs": [],
   "source": [
    "test()"
   ]
  },
  {
   "cell_type": "code",
   "execution_count": null,
   "metadata": {},
   "outputs": [],
   "source": [
    "extracted_activities = response.choices[0].message['content']\n",
    "#activity_keywords = [activity.split()[-1] for activity in extracted_activities.split(\",\")]\n",
    "extracted_activities"
   ]
  },
  {
   "cell_type": "code",
   "execution_count": null,
   "metadata": {},
   "outputs": [],
   "source": [
    "extracted_activities"
   ]
  }
 ],
 "metadata": {
  "kernelspec": {
   "display_name": "Python 3",
   "language": "python",
   "name": "python3"
  },
  "language_info": {
   "codemirror_mode": {
    "name": "ipython",
    "version": 3
   },
   "file_extension": ".py",
   "mimetype": "text/x-python",
   "name": "python",
   "nbconvert_exporter": "python",
   "pygments_lexer": "ipython3",
   "version": "3.8.16"
  },
  "orig_nbformat": 4
 },
 "nbformat": 4,
 "nbformat_minor": 2
}
